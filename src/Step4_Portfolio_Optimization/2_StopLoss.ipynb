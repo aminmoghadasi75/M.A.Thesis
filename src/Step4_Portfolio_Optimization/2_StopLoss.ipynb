{
 "cells": [
  {
   "cell_type": "code",
   "execution_count": 1,
   "metadata": {},
   "outputs": [],
   "source": [
    "import pandas as pd \n",
    "import numpy as np\n",
    "import json"
   ]
  },
  {
   "cell_type": "markdown",
   "metadata": {},
   "source": [
    "# LassoLogRegANN"
   ]
  },
  {
   "cell_type": "code",
   "execution_count": 2,
   "metadata": {},
   "outputs": [],
   "source": [
    "with open('/home/amin/thesis/src/Step4_Portfolio_Optimization/extracting_monthly_return/my_portfolio_return_LassoLogRegANN.json', 'r') as f :\n",
    "    LassoLogRegANN = json.load(f)"
   ]
  },
  {
   "cell_type": "code",
   "execution_count": 3,
   "metadata": {},
   "outputs": [
    {
     "name": "stdout",
     "output_type": "stream",
     "text": [
      "number_of_StopLoss_triggered = 65\n",
      "number_of_OverProfit_triggered = 0\n",
      "number_of_No_Change = 319\n",
      "all_transactions = 384\n"
     ]
    }
   ],
   "source": [
    "number_of_StopLoss_triggered = 0\n",
    "number_of_OverProfit_triggered = 0\n",
    "number_of_No_Change = 0\n",
    "\n",
    "\n",
    "new_portfolio_return = {}\n",
    "for date , value  in LassoLogRegANN.items():\n",
    "    new_value = []\n",
    "    for item in value :\n",
    "        if item[1] < -0.1 : # if the value is less than -0.1 , which means that the Stop Loss has been triggered.\n",
    "            item[1] = -0.1\n",
    "            number_of_StopLoss_triggered += 1\n",
    "        else :\n",
    "            item[1] = item[1]\n",
    "            number_of_No_Change += 1\n",
    "        new_value.append((item[0],item[1]))\n",
    "    new_portfolio_return[date] = new_value\n",
    "\n",
    "print(f'number_of_StopLoss_triggered = {number_of_StopLoss_triggered}')\n",
    "print(f'number_of_OverProfit_triggered = {number_of_OverProfit_triggered}')\n",
    "print(f'number_of_No_Change = {number_of_No_Change}')\n",
    "\n",
    "all_transactions = number_of_StopLoss_triggered + number_of_OverProfit_triggered + number_of_No_Change\n",
    "\n",
    "print(f'all_transactions = {all_transactions}')\n",
    "    "
   ]
  },
  {
   "cell_type": "code",
   "execution_count": 4,
   "metadata": {},
   "outputs": [],
   "source": [
    "with open ('/home/amin/thesis/src/Step4_Portfolio_Optimization/Set_StopLoss_MaximizeReturn/my__FINAL_portfolio_return_LassoLogRegANN.json', 'w') as f :\n",
    "    json.dump(new_portfolio_return, f)"
   ]
  },
  {
   "cell_type": "markdown",
   "metadata": {},
   "source": [
    "# LassoLogRegRF"
   ]
  },
  {
   "cell_type": "code",
   "execution_count": 5,
   "metadata": {},
   "outputs": [
    {
     "name": "stdout",
     "output_type": "stream",
     "text": [
      "number_of_StopLoss_triggered = 67\n",
      "number_of_OverProfit_triggered = 0\n",
      "number_of_No_Change = 315\n",
      "all_transactions = 382\n"
     ]
    }
   ],
   "source": [
    "with open('/home/amin/thesis/src/Step4_Portfolio_Optimization/extracting_monthly_return/my_portfolio_return_LassoLogRegRF.json', 'r') as f :\n",
    "    LassoLogRegRF = json.load(f)\n",
    "\n",
    "number_of_StopLoss_triggered = 0\n",
    "number_of_OverProfit_triggered = 0\n",
    "number_of_No_Change = 0\n",
    "\n",
    "\n",
    "new_portfolio_return = {}\n",
    "for date , value  in LassoLogRegRF.items():\n",
    "    new_value = []\n",
    "    for item in value :\n",
    "        if item[1] < -0.1 : # if the value is less than -0.1 , which means that the Stop Loss has been triggered.\n",
    "            item[1] = -0.1\n",
    "            number_of_StopLoss_triggered += 1\n",
    "        else :\n",
    "            item[1] = item[1]\n",
    "            number_of_No_Change += 1\n",
    "        new_value.append((item[0],item[1]))\n",
    "    new_portfolio_return[date] = new_value\n",
    "\n",
    "\n",
    "with open ('/home/amin/thesis/src/Step4_Portfolio_Optimization/Set_StopLoss_MaximizeReturn/my__FINAL_portfolio_return_LassoLogRegRF.json', 'w') as f :\n",
    "    json.dump(new_portfolio_return, f)\n",
    "\n",
    "print(f'number_of_StopLoss_triggered = {number_of_StopLoss_triggered}')\n",
    "print(f'number_of_OverProfit_triggered = {number_of_OverProfit_triggered}')\n",
    "print(f'number_of_No_Change = {number_of_No_Change}')\n",
    "\n",
    "all_transactions = number_of_StopLoss_triggered + number_of_OverProfit_triggered + number_of_No_Change\n",
    "\n",
    "print(f'all_transactions = {all_transactions}')\n",
    "    "
   ]
  },
  {
   "cell_type": "markdown",
   "metadata": {},
   "source": [
    "# LassoLogRegSVM"
   ]
  },
  {
   "cell_type": "code",
   "execution_count": 6,
   "metadata": {},
   "outputs": [
    {
     "name": "stdout",
     "output_type": "stream",
     "text": [
      "number_of_StopLoss_triggered = 66\n",
      "number_of_OverProfit_triggered = 0\n",
      "number_of_No_Change = 306\n",
      "all_transactions = 372\n"
     ]
    }
   ],
   "source": [
    "import pandas as pd \n",
    "import numpy as np\n",
    "import json\n",
    "\n",
    "with open('/home/amin/thesis/src/Step4_Portfolio_Optimization/extracting_monthly_return/my_portfolio_return_LassoLogRegSVM.json', 'r') as f :\n",
    "    LassoLogRegSVM = json.load(f)\n",
    "\n",
    "number_of_StopLoss_triggered = 0\n",
    "number_of_OverProfit_triggered = 0\n",
    "number_of_No_Change = 0\n",
    "\n",
    "\n",
    "new_portfolio_return = {}\n",
    "for date , value  in LassoLogRegSVM.items():\n",
    "    new_value = []\n",
    "    for item in value :\n",
    "        if item[1] < -0.1 : # if the value is less than -0.1 , which means that the Stop Loss has been triggered.\n",
    "            item[1] = -0.1\n",
    "            number_of_StopLoss_triggered += 1\n",
    "        else :\n",
    "            item[1] = item[1]\n",
    "            number_of_No_Change += 1\n",
    "        new_value.append((item[0],item[1]))\n",
    "    new_portfolio_return[date] = new_value\n",
    "\n",
    "\n",
    "with open ('/home/amin/thesis/src/Step4_Portfolio_Optimization/Set_StopLoss_MaximizeReturn/my__FINAL_portfolio_return_LassoLogRegSVM.json', 'w') as f :\n",
    "    json.dump(new_portfolio_return, f)\n",
    "\n",
    "print(f'number_of_StopLoss_triggered = {number_of_StopLoss_triggered}')\n",
    "print(f'number_of_OverProfit_triggered = {number_of_OverProfit_triggered}')\n",
    "print(f'number_of_No_Change = {number_of_No_Change}')\n",
    "\n",
    "all_transactions = number_of_StopLoss_triggered + number_of_OverProfit_triggered + number_of_No_Change\n",
    "\n",
    "print(f'all_transactions = {all_transactions}')\n",
    "    "
   ]
  },
  {
   "cell_type": "markdown",
   "metadata": {},
   "source": [
    "# LassoLogRegXGBoost"
   ]
  },
  {
   "cell_type": "code",
   "execution_count": 7,
   "metadata": {},
   "outputs": [
    {
     "name": "stdout",
     "output_type": "stream",
     "text": [
      "number_of_StopLoss_triggered = 56\n",
      "number_of_OverProfit_triggered = 0\n",
      "number_of_No_Change = 328\n",
      "all_transactions = 384\n"
     ]
    }
   ],
   "source": [
    "import pandas as pd \n",
    "import numpy as np\n",
    "import json\n",
    "\n",
    "with open('/home/amin/thesis/src/Step4_Portfolio_Optimization/extracting_monthly_return/my_portfolio_return_LassoLogRegXGB.json', 'r') as f :\n",
    "    LassoLogRegXGB = json.load(f)\n",
    "\n",
    "number_of_StopLoss_triggered = 0\n",
    "number_of_OverProfit_triggered = 0\n",
    "number_of_No_Change = 0\n",
    "\n",
    "\n",
    "new_portfolio_return = {}\n",
    "for date , value  in LassoLogRegXGB.items():\n",
    "    new_value = []\n",
    "    for item in value :\n",
    "        if item[1] < -0.1 : # if the value is less than -0.1 , which means that the Stop Loss has been triggered.\n",
    "            item[1] = -0.1\n",
    "            number_of_StopLoss_triggered += 1\n",
    "        else :\n",
    "            item[1] = item[1]\n",
    "            number_of_No_Change += 1\n",
    "        new_value.append((item[0],item[1]))\n",
    "    new_portfolio_return[date] = new_value\n",
    "\n",
    "\n",
    "with open ('/home/amin/thesis/src/Step4_Portfolio_Optimization/Set_StopLoss_MaximizeReturn/my__FINAL_portfolio_return_LassoLogRegXGB.json', 'w') as f :\n",
    "    json.dump(new_portfolio_return, f)\n",
    "\n",
    "print(f'number_of_StopLoss_triggered = {number_of_StopLoss_triggered}')\n",
    "print(f'number_of_OverProfit_triggered = {number_of_OverProfit_triggered}')\n",
    "print(f'number_of_No_Change = {number_of_No_Change}')\n",
    "\n",
    "all_transactions = number_of_StopLoss_triggered + number_of_OverProfit_triggered + number_of_No_Change\n",
    "\n",
    "print(f'all_transactions = {all_transactions}')\n",
    "    "
   ]
  },
  {
   "cell_type": "markdown",
   "metadata": {},
   "source": [
    "# RFANN"
   ]
  },
  {
   "cell_type": "code",
   "execution_count": 8,
   "metadata": {},
   "outputs": [
    {
     "name": "stdout",
     "output_type": "stream",
     "text": [
      "number_of_StopLoss_triggered = 55\n",
      "number_of_OverProfit_triggered = 0\n",
      "number_of_No_Change = 329\n",
      "all_transactions = 384\n"
     ]
    }
   ],
   "source": [
    "import pandas as pd \n",
    "import numpy as np\n",
    "import json\n",
    "\n",
    "with open('/home/amin/thesis/src/Step4_Portfolio_Optimization/extracting_monthly_return/my_portfolio_return_RFANN.json', 'r') as f :\n",
    "    RFANN = json.load(f)\n",
    "\n",
    "number_of_StopLoss_triggered = 0\n",
    "number_of_OverProfit_triggered = 0\n",
    "number_of_No_Change = 0\n",
    "\n",
    "\n",
    "new_portfolio_return = {}\n",
    "for date , value  in RFANN.items():\n",
    "    new_value = []\n",
    "    for item in value :\n",
    "        if item[1] < -0.1 : # if the value is less than -0.1 , which means that the Stop Loss has been triggered.\n",
    "            item[1] = -0.1\n",
    "            number_of_StopLoss_triggered += 1\n",
    "        else :\n",
    "            item[1] = item[1]\n",
    "            number_of_No_Change += 1\n",
    "        new_value.append((item[0],item[1]))\n",
    "    new_portfolio_return[date] = new_value\n",
    "\n",
    "\n",
    "with open ('/home/amin/thesis/src/Step4_Portfolio_Optimization/Set_StopLoss_MaximizeReturn/my__FINAL_portfolio_return_RFANN.json', 'w') as f :\n",
    "    json.dump(new_portfolio_return, f)\n",
    "\n",
    "print(f'number_of_StopLoss_triggered = {number_of_StopLoss_triggered}')\n",
    "print(f'number_of_OverProfit_triggered = {number_of_OverProfit_triggered}')\n",
    "print(f'number_of_No_Change = {number_of_No_Change}')\n",
    "\n",
    "all_transactions = number_of_StopLoss_triggered + number_of_OverProfit_triggered + number_of_No_Change\n",
    "\n",
    "print(f'all_transactions = {all_transactions}')\n",
    "    "
   ]
  },
  {
   "cell_type": "code",
   "execution_count": 9,
   "metadata": {},
   "outputs": [
    {
     "name": "stdout",
     "output_type": "stream",
     "text": [
      "number_of_StopLoss_triggered = 64\n",
      "number_of_OverProfit_triggered = 0\n",
      "number_of_No_Change = 318\n",
      "all_transactions = 382\n"
     ]
    }
   ],
   "source": [
    "import pandas as pd \n",
    "import numpy as np\n",
    "import json\n",
    "\n",
    "with open('/home/amin/thesis/src/Step4_Portfolio_Optimization/extracting_monthly_return/my_portfolio_return_RFRF.json', 'r') as f :\n",
    "    RFRF = json.load(f)\n",
    "\n",
    "number_of_StopLoss_triggered = 0\n",
    "number_of_OverProfit_triggered = 0\n",
    "number_of_No_Change = 0\n",
    "\n",
    "\n",
    "new_portfolio_return = {}\n",
    "for date , value  in RFRF.items():\n",
    "    new_value = []\n",
    "    for item in value :\n",
    "        if item[1] < -0.1 : # if the value is less than -0.1 , which means that the Stop Loss has been triggered.\n",
    "            item[1] = -0.1\n",
    "            number_of_StopLoss_triggered += 1\n",
    "        else :\n",
    "            item[1] = item[1]\n",
    "            number_of_No_Change += 1\n",
    "        new_value.append((item[0],item[1]))\n",
    "    new_portfolio_return[date] = new_value\n",
    "\n",
    "\n",
    "with open ('/home/amin/thesis/src/Step4_Portfolio_Optimization/Set_StopLoss_MaximizeReturn/my__FINAL_portfolio_return_RFRF.json', 'w') as f :\n",
    "    json.dump(new_portfolio_return, f)\n",
    "\n",
    "print(f'number_of_StopLoss_triggered = {number_of_StopLoss_triggered}')\n",
    "print(f'number_of_OverProfit_triggered = {number_of_OverProfit_triggered}')\n",
    "print(f'number_of_No_Change = {number_of_No_Change}')\n",
    "\n",
    "all_transactions = number_of_StopLoss_triggered + number_of_OverProfit_triggered + number_of_No_Change\n",
    "\n",
    "print(f'all_transactions = {all_transactions}')\n",
    "    "
   ]
  },
  {
   "cell_type": "code",
   "execution_count": 10,
   "metadata": {},
   "outputs": [
    {
     "name": "stdout",
     "output_type": "stream",
     "text": [
      "number_of_StopLoss_triggered = 53\n",
      "number_of_OverProfit_triggered = 0\n",
      "number_of_No_Change = 317\n",
      "all_transactions = 370\n"
     ]
    }
   ],
   "source": [
    "import pandas as pd \n",
    "import numpy as np\n",
    "import json\n",
    "\n",
    "with open('/home/amin/thesis/src/Step4_Portfolio_Optimization/extracting_monthly_return/my_portfolio_return_RFSVM.json', 'r') as f :\n",
    "    RFSVM = json.load(f)\n",
    "\n",
    "number_of_StopLoss_triggered = 0\n",
    "number_of_OverProfit_triggered = 0\n",
    "number_of_No_Change = 0\n",
    "\n",
    "\n",
    "new_portfolio_return = {}\n",
    "for date , value  in RFSVM.items():\n",
    "    new_value = []\n",
    "    for item in value :\n",
    "        if item[1] < -0.1 : # if the value is less than -0.1 , which means that the Stop Loss has been triggered.\n",
    "            item[1] = -0.1\n",
    "            number_of_StopLoss_triggered += 1\n",
    "        else :\n",
    "            item[1] = item[1]\n",
    "            number_of_No_Change += 1\n",
    "        new_value.append((item[0],item[1]))\n",
    "    new_portfolio_return[date] = new_value\n",
    "\n",
    "\n",
    "with open ('/home/amin/thesis/src/Step4_Portfolio_Optimization/Set_StopLoss_MaximizeReturn/my__FINAL_portfolio_return_RFSVM.json', 'w') as f :\n",
    "    json.dump(new_portfolio_return, f)\n",
    "\n",
    "print(f'number_of_StopLoss_triggered = {number_of_StopLoss_triggered}')\n",
    "print(f'number_of_OverProfit_triggered = {number_of_OverProfit_triggered}')\n",
    "print(f'number_of_No_Change = {number_of_No_Change}')\n",
    "\n",
    "all_transactions = number_of_StopLoss_triggered + number_of_OverProfit_triggered + number_of_No_Change\n",
    "\n",
    "print(f'all_transactions = {all_transactions}')\n",
    "    "
   ]
  },
  {
   "cell_type": "code",
   "execution_count": 11,
   "metadata": {},
   "outputs": [
    {
     "name": "stdout",
     "output_type": "stream",
     "text": [
      "number_of_StopLoss_triggered = 65\n",
      "number_of_OverProfit_triggered = 0\n",
      "number_of_No_Change = 319\n",
      "all_transactions = 384\n"
     ]
    }
   ],
   "source": [
    "import pandas as pd \n",
    "import numpy as np\n",
    "import json\n",
    "\n",
    "with open('/home/amin/thesis/src/Step4_Portfolio_Optimization/extracting_monthly_return/my_portfolio_return_RFXGB.json', 'r') as f :\n",
    "    RFXGB = json.load(f)\n",
    "\n",
    "number_of_StopLoss_triggered = 0\n",
    "number_of_OverProfit_triggered = 0\n",
    "number_of_No_Change = 0\n",
    "\n",
    "\n",
    "new_portfolio_return = {}\n",
    "for date , value  in RFXGB.items():\n",
    "    new_value = []\n",
    "    for item in value :\n",
    "        if item[1] < -0.1 : # if the value is less than -0.1 , which means that the Stop Loss has been triggered.\n",
    "            item[1] = -0.1\n",
    "            number_of_StopLoss_triggered += 1\n",
    "        else :\n",
    "            item[1] = item[1]\n",
    "            number_of_No_Change += 1\n",
    "        new_value.append((item[0],item[1]))\n",
    "    new_portfolio_return[date] = new_value\n",
    "\n",
    "\n",
    "with open ('/home/amin/thesis/src/Step4_Portfolio_Optimization/Set_StopLoss_MaximizeReturn/my__FINAL_portfolio_return_RFXGB.json', 'w') as f :\n",
    "    json.dump(new_portfolio_return, f)\n",
    "\n",
    "print(f'number_of_StopLoss_triggered = {number_of_StopLoss_triggered}')\n",
    "print(f'number_of_OverProfit_triggered = {number_of_OverProfit_triggered}')\n",
    "print(f'number_of_No_Change = {number_of_No_Change}')\n",
    "\n",
    "all_transactions = number_of_StopLoss_triggered + number_of_OverProfit_triggered + number_of_No_Change\n",
    "\n",
    "print(f'all_transactions = {all_transactions}')\n",
    "    "
   ]
  },
  {
   "cell_type": "markdown",
   "metadata": {},
   "source": [
    "# Checking"
   ]
  },
  {
   "cell_type": "code",
   "execution_count": 2,
   "metadata": {},
   "outputs": [],
   "source": [
    "with open('/home/amin/thesis/src/Step4_Portfolio_Optimization/Set_StopLoss_MaximizeReturn/my__FINAL_portfolio_return_RFRF.json', 'r') as f :\n",
    "    RFRF = json.load(f)"
   ]
  },
  {
   "cell_type": "code",
   "execution_count": 3,
   "metadata": {},
   "outputs": [
    {
     "name": "stdout",
     "output_type": "stream",
     "text": [
      "more_than_10 = 0\n",
      "all_values = 382\n"
     ]
    }
   ],
   "source": [
    "more_than_10 = 0\n",
    "all_values = 0\n",
    "for date , value  in RFRF.items():\n",
    "    new_value = []\n",
    "    for item in value :\n",
    "        if item[1] < -0.1 : # if the value is less than -0.1 , which means that the Stop Loss has been triggered.\n",
    "            more_than_10 += 1\n",
    "        else :\n",
    "            all_values += 1\n",
    "print(f'more_than_10 = {more_than_10}')\n",
    "print(f'all_values = {all_values}')"
   ]
  },
  {
   "cell_type": "code",
   "execution_count": null,
   "metadata": {},
   "outputs": [],
   "source": []
  }
 ],
 "metadata": {
  "kernelspec": {
   "display_name": "py310",
   "language": "python",
   "name": "python3"
  },
  "language_info": {
   "codemirror_mode": {
    "name": "ipython",
    "version": 3
   },
   "file_extension": ".py",
   "mimetype": "text/x-python",
   "name": "python",
   "nbconvert_exporter": "python",
   "pygments_lexer": "ipython3",
   "version": "3.10.13"
  }
 },
 "nbformat": 4,
 "nbformat_minor": 2
}
