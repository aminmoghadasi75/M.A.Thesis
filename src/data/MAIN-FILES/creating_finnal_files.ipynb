{
 "cells": [
  {
   "cell_type": "code",
   "execution_count": null,
   "metadata": {},
   "outputs": [],
   "source": [
    "import pandas as pd\n",
    "import numpy as np\n",
    "import os\n",
    "import warnings\n",
    "warnings.filterwarnings('ignore')"
   ]
  },
  {
   "cell_type": "markdown",
   "metadata": {},
   "source": [
    "# Merging all datas into the final files"
   ]
  },
  {
   "cell_type": "code",
   "execution_count": null,
   "metadata": {},
   "outputs": [],
   "source": [
    "start_date = '2013-09-01'\n",
    "end_date = '2023-08-31'\n",
    "\n",
    "date_range = pd.date_range(start=start_date, end=end_date)\n",
    "df = pd.DataFrame(date_range, columns=['Date'])\n",
    "df['Date'] = pd.to_datetime(df['Date'])"
   ]
  },
  {
   "cell_type": "code",
   "execution_count": null,
   "metadata": {},
   "outputs": [],
   "source": [
    "df1 = pd.DataFrame(pd.read_excel('./datas/ارفع/ارفع.xlsx'))\n",
    "\n",
    "df1 = df1.drop(columns=['Unnamed: 0'])\n"
   ]
  },
  {
   "cell_type": "code",
   "execution_count": null,
   "metadata": {},
   "outputs": [],
   "source": [
    "df = pd.merge(df , df1, on='Date', how='outer')\n",
    "df.head()"
   ]
  },
  {
   "cell_type": "code",
   "execution_count": null,
   "metadata": {},
   "outputs": [],
   "source": [
    "df2 = pd.DataFrame(pd.read_excel('./datas/ارفع/ahanvafolad.xlsx'))"
   ]
  },
  {
   "cell_type": "code",
   "execution_count": null,
   "metadata": {},
   "outputs": [],
   "source": [
    "df2.head()"
   ]
  },
  {
   "cell_type": "code",
   "execution_count": null,
   "metadata": {},
   "outputs": [],
   "source": [
    "df2 = df2.drop(columns=['تاریخ شمسی', 'Unnamed: 0'])\n",
    "df = pd.merge(df, df2, on='Date', how='outer')\n"
   ]
  },
  {
   "cell_type": "code",
   "execution_count": null,
   "metadata": {},
   "outputs": [],
   "source": [
    "df3 = pd.DataFrame(pd.read_excel('./datas/ارفع/faraboors_clean.xlsx'))\n",
    "if 'Unnamed: 0' in df3.columns.to_list():\n",
    "    df3 = df3.drop(columns=[ 'Unnamed: 0'])\n",
    "elif 'تاریخ شمسی' in df3.columns.to_list():\n",
    "    df3 = df3.drop(columns=['تاریخ شمسی'])\n"
   ]
  },
  {
   "cell_type": "code",
   "execution_count": null,
   "metadata": {},
   "outputs": [],
   "source": [
    "df = pd.merge(df, df3, on='Date', how='outer')"
   ]
  },
  {
   "cell_type": "code",
   "execution_count": null,
   "metadata": {},
   "outputs": [],
   "source": [
    "df3.head()"
   ]
  },
  {
   "cell_type": "code",
   "execution_count": null,
   "metadata": {},
   "outputs": [],
   "source": [
    "df.shape"
   ]
  },
  {
   "cell_type": "code",
   "execution_count": null,
   "metadata": {},
   "outputs": [],
   "source": [
    "df4 = pd.DataFrame(pd.read_excel('./datas/ارفع/hyper_iran_eco_clean.xlsx'))\n",
    "if 'Unnamed: 0' in df4.columns.to_list():\n",
    "    df4 = df4.drop(columns=[ 'Unnamed: 0'])\n",
    "elif 'تاریخ شمسی' in df4.columns.to_list():\n",
    "    df4 = df4.drop(columns=['تاریخ شمسی'])\n",
    "df = pd.merge(df, df4, on='Date', how='outer')"
   ]
  },
  {
   "cell_type": "code",
   "execution_count": null,
   "metadata": {},
   "outputs": [],
   "source": [
    "df.shape"
   ]
  },
  {
   "cell_type": "code",
   "execution_count": null,
   "metadata": {},
   "outputs": [],
   "source": [
    "df5 = pd.DataFrame(pd.read_excel('./datas/ارفع/data_global_clean.xlsx'))\n",
    "if 'Unnamed: 0' in df5.columns.to_list():\n",
    "    df5 = df5.drop(columns=[ 'Unnamed: 0'])\n",
    "elif 'تاریخ شمسی' in df5.columns.to_list():\n",
    "    df5 = df5.drop(columns=['تاریخ شمسی'])\n",
    "df = pd.merge(df, df5, on='Date', how='outer')"
   ]
  },
  {
   "cell_type": "code",
   "execution_count": null,
   "metadata": {},
   "outputs": [],
   "source": [
    "df.shape"
   ]
  },
  {
   "cell_type": "code",
   "execution_count": null,
   "metadata": {},
   "outputs": [],
   "source": [
    "df.head()"
   ]
  },
  {
   "cell_type": "code",
   "execution_count": null,
   "metadata": {},
   "outputs": [],
   "source": [
    "columns_list = df.columns.to_list()\n",
    "columns_list"
   ]
  },
  {
   "cell_type": "code",
   "execution_count": null,
   "metadata": {},
   "outputs": [],
   "source": [
    "order_of_columns = ['Date',\n",
    " 'تاریخ شمسی_x',\n",
    " 'بازگشایی*سهم*',\n",
    " 'بالاترین*سهم*',\n",
    " 'پایین\\u200cترین*سهم*',\n",
    " 'آخرین معامله*سهم*',\n",
    " 'قیمت تعدیلی*سهم*',\n",
    " 'پایانی*سهم*',\n",
    " 'میزان تغییر*سهم*',\n",
    " 'درصد تغییر*سهم*',\n",
    " 'ارزش بازار*سهم*',\n",
    " 'تعداد معاملات*سهم*',\n",
    " 'حجم*سهم*',\n",
    " 'ارزش معاملات*سهم*',\n",
    " 'سهام شناور*سهم*',\n",
    " 'P/E-ttm*سهم*',\n",
    " 'P/B*سهم*',\n",
    " 'P/S*سهم*',\n",
    " 'قدرت خرید حقیقی*سهم*',\n",
    " 'درصد خالص حقیقی*سهم*',\n",
    " 'خالص حقیقی*سهم*',\n",
    " 'سرانه خرید حقیقی*سهم*',\n",
    " 'سرانه فروش حقیقی*سهم*',\n",
    " 'آخرین معامله*صنعت*',\n",
    " 'میزان تغییر*صنعت*',\n",
    " 'درصد تغییر*صنعت*',\n",
    " 'حجم*صنعت*',\n",
    " 'ارزش معاملات*صنعت*',\n",
    " 'سهام شناور*صنعت*',\n",
    " 'ارزش بازار*صنعت*',\n",
    " 'P/E-ttm*صنعت*',\n",
    " 'P/B*صنعت*',\n",
    " 'P/S*صنعت*',\n",
    " 'قیمت*صنعت*',\n",
    " 'خالص حقوقی-حجم(تعداد سهام)-تجمعی*صنعت*',\n",
    " 'خالص حقیقی-حجم(تعداد سهام)-تجمعی*صنعت*',\n",
    " 'خالص حقوقی-ارزش(ریال)-تجمعی*صنعت*',\n",
    " 'خالص حقیقی-ارزش(ریال)-تجمعی*صنعت*',\n",
    " 'خرید حقوقی-حجم(تعداد سهام)*صنعت*',\n",
    " 'فروش حقوقی-حجم(تعداد سهام)*صنعت*',\n",
    " 'خرید حقیقی-حجم(تعداد سهام)*صنعت*',\n",
    " 'فروش حقیقی-حجم(تعداد سهام)*صنعت*',\n",
    " 'خرید حقوقی-ارزش(ریال)*صنعت*',\n",
    " 'فروش حقوقی-ارزش(ریال)*صنعت*',\n",
    " 'خرید حقیقی-ارزش(ریال)*صنعت*',\n",
    " 'فروش حقیقی-ارزش(ریال)*صنعت*',\n",
    " '  فرابورس-بازده دارایی ها      *فرابورس*',\n",
    " '  فرابورس-ارزش بازار      *فرابورس*',\n",
    " 'سود خالص-چهار فصل اخیر-فرابورس*فرابورس*',\n",
    " '  فرابورس-قیمت به سود (PtoE-TTM*فرابورس*',\n",
    " '  فرابورس-ارزش بازار (دلار نیما*فرابورس*',\n",
    " '  فرابورس-ارزش معاملات سهام بلوکی*فرابورس*',\n",
    " 'شاخص فرابورس*فرابورس*',\n",
    " 'سود خالص-آخرین فصل-فرابورس*فرابورس*',\n",
    " 'خرید  حقوقی-ارزش-فرابورس*فرابورس*',\n",
    " 'فروش  حقوقی-ارزش-فرابورس*فرابورس*',\n",
    " 'خالص خرید  حقوقی-ارزش-فرابورس*فرابورس*',\n",
    " 'حجم معاملات - فرابورس*فرابورس*',\n",
    " '  فرابورس-ارزش معاملات      *فرابورس*',\n",
    " '  فرابورس-قیمت به ارزش دفتری (P*فرابورس*',\n",
    " 'حجم معاملات اوراق با درآمد ثابت عادی-فرابورس*فرابورس*',\n",
    " '  فرابورس-بازده حقوق صاحبان سها*فرابورس*',\n",
    " 'ارزش معاملات اوراق با درآمد ثابت بلوکی-فرابورس*فرابورس*',\n",
    " '  فرابورس-درصد پرداخت سود      *فرابورس*',\n",
    " 'خرید حقیقی-ارزش-فرابورس*فرابورس*',\n",
    " 'فروش حقیقی-ارزش-فرابورس*فرابورس*',\n",
    " 'خالص خرید حقیقی-ارزش-فرابورس*فرابورس*',\n",
    " 'ارزش معاملات اوراق با درآمد ثابت عادی-فرابورس*فرابورس*',\n",
    " 'خریدحقیقی-حجم-فرابورس*فرابورس*',\n",
    " 'فروش حقیقی-حجم-فرابورس*فرابورس*',\n",
    " 'خالص خرید حقیقی-حجم-فرابورس*فرابورس*',\n",
    " '  فرابورس-ارزش بازار (دلار آزاد)*فرابورس*',\n",
    " 'حجم معاملات سهام بلوکی-فرابورس*فرابورس*',\n",
    " 'خرید  حقوقی-حجم-فرابورس*فرابورس*',\n",
    " 'فروش  حقوقی-حجم-فرابورس*فرابورس*',\n",
    " 'خالص خرید  حقوقی-حجم-فرابورس*فرابورس*',\n",
    " 'حجم معاملات اوراق با درآمد ثابت بلوکی-فرابورس*فرابورس*',\n",
    " '  فرابورس-قیمت به درآمد *فرابورس*',\n",
    " 'تاریخ شمسی_y',\n",
    " 'میانگین نرخ بدون ریسک*کلان*',\n",
    " 'دلار نیمایی*کلان*',\n",
    " 'شاخص آزاد شناور*کلان*',\n",
    " 'شاخص قيمت (هم وزن)*کلان*',\n",
    " 'شاخص بازار اول*کلان*',\n",
    " 'دلار مبادله ای*کلان*',\n",
    " 'شاخص بازار دوم*کلان*',\n",
    " 'شاخص قيمت(وزني-ارزشي)*کلان*',\n",
    " 'دلار آزاد*کلان*',\n",
    " 'نرخ بدون ریسک*کلان*',\n",
    " 'شاخص كل (هم وزن)*کلان*',\n",
    " 'Oil Price',\n",
    " 'BTC Price',\n",
    " 'GAS Price',\n",
    " 'Cooper Price',\n",
    " 'Aluminum Price',\n",
    " 'Gold Price',\n",
    " 'Treasury Bond',\n",
    " 'Treasury Yield 30 Years',\n",
    " 'Treasury Yield 5 Years',\n",
    " 'S&P 500',\n",
    " 'NASDAQ Composite',\n",
    " 'Dollar-Index',\n",
    " 'Lead Price',\n",
    " 'Steel Price']\n"
   ]
  },
  {
   "cell_type": "code",
   "execution_count": null,
   "metadata": {},
   "outputs": [],
   "source": [
    "column_order = ['E', 'C', *df.columns.difference(['E', 'C']).tolist(), 'A']"
   ]
  },
  {
   "cell_type": "code",
   "execution_count": null,
   "metadata": {},
   "outputs": [],
   "source": []
  },
  {
   "cell_type": "code",
   "execution_count": null,
   "metadata": {},
   "outputs": [],
   "source": [
    "folder_path = './datas'\n",
    "data_list = os.listdir(folder_path)\n",
    "for data in data_list:\n",
    "    file_path = f'{folder_path}/{data}'\n",
    "\n",
    "\n",
    "    start_date = '2013-09-01'\n",
    "    end_date = '2023-08-31'\n",
    "\n",
    "    date_range = pd.date_range(start=start_date, end=end_date)\n",
    "    df = pd.DataFrame(date_range, columns=['Date'])\n",
    "    df['Date'] = pd.to_datetime(df['Date'])\n",
    "\n",
    "\n",
    "    n = 0\n",
    "    for file in os.listdir(f'{folder_path}/{data}'):\n",
    "\n",
    "        if n == 0 :\n",
    "            df1 = pd.read_excel(f'{file_path}/{file}')\n",
    "\n",
    "            if 'Unnamed: 0' in df1.columns.to_list():\n",
    "                df1 = df1.drop(columns=[ 'Unnamed: 0'])\n",
    "                df = pd.merge(df , df1, on='Date', how='outer')\n",
    "                n += 1\n",
    "        else :\n",
    "            df1 = pd.read_excel(f'{file_path}/{data}/{file}')\n",
    "            if 'Unnamed: 0' in df1.columns.to_list():\n",
    "                df1 = df1.drop(columns=[ 'Unnamed: 0'])\n",
    "            elif 'تاریخ شمسی' in df1.columns.to_list():\n",
    "                df1 = df1.drop(columns=['تاریخ شمسی'])\n",
    "            df = pd.merge(df , df1, on='Date', how='outer')"
   ]
  },
  {
   "cell_type": "code",
   "execution_count": null,
   "metadata": {},
   "outputs": [],
   "source": []
  },
  {
   "cell_type": "code",
   "execution_count": null,
   "metadata": {},
   "outputs": [],
   "source": []
  },
  {
   "cell_type": "code",
   "execution_count": null,
   "metadata": {},
   "outputs": [],
   "source": []
  },
  {
   "cell_type": "code",
   "execution_count": null,
   "metadata": {},
   "outputs": [],
   "source": [
    "df_farabors = pd.DataFrame(pd.read_excel('./boursview_final_data/ارفع.xlsx'))"
   ]
  },
  {
   "cell_type": "code",
   "execution_count": null,
   "metadata": {},
   "outputs": [],
   "source": [
    "df_bors = pd.DataFrame(pd.read_excel('./boursview_final_data/جم.xlsx'))"
   ]
  },
  {
   "cell_type": "code",
   "execution_count": null,
   "metadata": {},
   "outputs": [],
   "source": [
    "df_farabors.columns"
   ]
  },
  {
   "cell_type": "code",
   "execution_count": null,
   "metadata": {},
   "outputs": [],
   "source": [
    "df_farabors.shape"
   ]
  },
  {
   "cell_type": "code",
   "execution_count": null,
   "metadata": {},
   "outputs": [],
   "source": [
    "df_bors.shape"
   ]
  },
  {
   "cell_type": "code",
   "execution_count": null,
   "metadata": {},
   "outputs": [],
   "source": [
    "df_bors2 = pd.DataFrame(pd.read_excel('./boursview_final_data/فولاد.xlsx'))"
   ]
  },
  {
   "cell_type": "code",
   "execution_count": null,
   "metadata": {},
   "outputs": [],
   "source": [
    "df_bors2.columns.to_list()"
   ]
  },
  {
   "cell_type": "code",
   "execution_count": null,
   "metadata": {},
   "outputs": [],
   "source": [
    "df_bors2.shape"
   ]
  },
  {
   "cell_type": "code",
   "execution_count": null,
   "metadata": {},
   "outputs": [],
   "source": []
  },
  {
   "cell_type": "code",
   "execution_count": null,
   "metadata": {},
   "outputs": [],
   "source": []
  },
  {
   "cell_type": "code",
   "execution_count": null,
   "metadata": {},
   "outputs": [],
   "source": [
    "import pandas as pd\n",
    "import numpy as np\n",
    "import os\n",
    "import warnings\n",
    "warnings.filterwarnings('ignore')\n",
    "\n",
    "\n",
    "\n",
    "\n",
    "\n",
    "\n",
    "\n",
    "\n",
    "folder_path = './datas'\n",
    "data_list = os.listdir(folder_path)\n",
    "for data in data_list:\n",
    "\n",
    "    file_path = f'{folder_path}/{data}'\n",
    "    stock_path = os.listdir(file_path)\n",
    "\n",
    "\n",
    "    start_date = '2013-09-01'\n",
    "    end_date = '2023-08-31'\n",
    "\n",
    "    date_range = pd.date_range(start=start_date, end=end_date)\n",
    "    df = pd.DataFrame(date_range, columns=['Date'])\n",
    "    df['Date'] = pd.to_datetime(df['Date'])\n",
    "\n",
    "\n",
    "    n = 0\n",
    "    for file in stock_path:\n",
    "        if n == 0 :\n",
    "            df1 = pd.DataFrame(pd.read_excel(f'{file_path}/{file}'))\n",
    "            if 'Unnamed: 0' in df1.columns.to_list():\n",
    "                df1 = df1.drop(columns=[ 'Unnamed: 0'])\n",
    "            elif 'تاریخ شمسی_x' in df1.columns.to_list():\n",
    "                df1 = df1.drop(columns=[ 'Unnamed: 0'])\n",
    "            elif 'تاریخ شمسی_y' in df1.columns.to_list():\n",
    "                df1 = df1.drop(columns=[ 'تاریخ شمسی_y'])\n",
    "            df = pd.merge(df , df1, on='Date', how='outer')\n",
    "            n += 1\n",
    "\n",
    "        else :\n",
    "            df1 = pd.DataFrame(pd.read_excel(f'{file_path}/{file}'))\n",
    "            if 'Unnamed: 0' in df1.columns.to_list():\n",
    "                df1 = df1.drop(columns=[ 'Unnamed: 0'])\n",
    "            elif 'تاریخ شمسی' in df1.columns.to_list():\n",
    "                df1 = df1.drop(columns=['تاریخ شمسی'])\n",
    "            elif 'تاریخ شمسی_x' in df1.columns.to_list():\n",
    "                df1 = df1.drop(columns=[ 'Unnamed: 0'])\n",
    "            elif 'تاریخ شمسی_y' in df1.columns.to_list():\n",
    "                df1 = df1.drop(columns=[ 'تاریخ شمسی_y'])\n",
    "            df = pd.merge(df , df1, on='Date', how='outer')\n",
    "\n",
    "    df.to_excel(f'./boursview_final_data/{data}.xlsx', index=False)\n",
    "\n",
    "\n",
    "\n",
    "\n",
    "\n",
    "\n",
    "\n",
    "\n",
    "\n",
    "\n",
    "\n",
    "\n",
    "\n",
    "\n"
   ]
  },
  {
   "cell_type": "code",
   "execution_count": null,
   "metadata": {},
   "outputs": [],
   "source": [
    "df_bors = pd.DataFrame(pd.read_excel('./boursview_final_data/فولاد.xlsx'))"
   ]
  },
  {
   "cell_type": "code",
   "execution_count": null,
   "metadata": {},
   "outputs": [],
   "source": [
    "df_farabors = pd.DataFrame(pd.read_excel('./boursview_final_data/ارفع.xlsx'))"
   ]
  },
  {
   "cell_type": "code",
   "execution_count": null,
   "metadata": {},
   "outputs": [],
   "source": [
    "df_farabors.columns.to_list()"
   ]
  },
  {
   "cell_type": "code",
   "execution_count": null,
   "metadata": {},
   "outputs": [],
   "source": [
    "df_bors.shape"
   ]
  },
  {
   "cell_type": "code",
   "execution_count": null,
   "metadata": {},
   "outputs": [],
   "source": [
    "df_farabors.shape"
   ]
  },
  {
   "cell_type": "code",
   "execution_count": null,
   "metadata": {},
   "outputs": [],
   "source": [
    "import talib"
   ]
  },
  {
   "cell_type": "code",
   "execution_count": null,
   "metadata": {},
   "outputs": [],
   "source": [
    "df = df_bors.copy()"
   ]
  },
  {
   "cell_type": "code",
   "execution_count": null,
   "metadata": {},
   "outputs": [],
   "source": [
    "df.columns.to_list()"
   ]
  },
  {
   "cell_type": "code",
   "execution_count": null,
   "metadata": {},
   "outputs": [],
   "source": [
    "df.head()"
   ]
  },
  {
   "cell_type": "markdown",
   "metadata": {},
   "source": [
    "# Technical Indicators"
   ]
  },
  {
   "cell_type": "code",
   "execution_count": null,
   "metadata": {},
   "outputs": [],
   "source": [
    "c_price = df['پایانی*سهم*']\n",
    "h_price = df['بالاترین*سهم*']\n",
    "l_price = df['پایین\\u200cترین*سهم*']\n",
    "volume = df['حجم*سهم*']"
   ]
  },
  {
   "cell_type": "code",
   "execution_count": null,
   "metadata": {},
   "outputs": [],
   "source": [
    "volume"
   ]
  },
  {
   "cell_type": "markdown",
   "metadata": {},
   "source": [
    "### Moving Average"
   ]
  },
  {
   "cell_type": "code",
   "execution_count": null,
   "metadata": {},
   "outputs": [],
   "source": [
    "ma26 = talib.MA(c_price, timeperiod= 26)\n",
    "ma50 = talib.MA(c_price, timeperiod= 50)"
   ]
  },
  {
   "cell_type": "code",
   "execution_count": null,
   "metadata": {},
   "outputs": [],
   "source": [
    "sma26 = talib.SMA(c_price, timeperiod= 26)\n",
    "sma50 = talib.SMA(c_price, timeperiod= 50)\n"
   ]
  },
  {
   "cell_type": "code",
   "execution_count": null,
   "metadata": {},
   "outputs": [],
   "source": [
    "ema26 = talib.EMA(c_price, timeperiod= 26)\n",
    "ema50 = talib.EMA(c_price, timeperiod= 50)"
   ]
  },
  {
   "cell_type": "markdown",
   "metadata": {},
   "source": [
    "### MACD"
   ]
  },
  {
   "cell_type": "code",
   "execution_count": null,
   "metadata": {},
   "outputs": [],
   "source": [
    "macd, signal, _ = talib.MACD(c_price, fastperiod=12, slowperiod=26, signalperiod=9)\n"
   ]
  },
  {
   "cell_type": "markdown",
   "metadata": {},
   "source": [
    "### Bollinger Boands"
   ]
  },
  {
   "cell_type": "code",
   "execution_count": null,
   "metadata": {},
   "outputs": [],
   "source": [
    "upper_band, middle_band, lower_band = talib.BBANDS(c_price, timeperiod=30, nbdevup=2, nbdevdn=2)"
   ]
  },
  {
   "cell_type": "markdown",
   "metadata": {},
   "source": [
    "### RSI"
   ]
  },
  {
   "cell_type": "code",
   "execution_count": null,
   "metadata": {},
   "outputs": [],
   "source": [
    "rsi = talib.RSI(c_price, timeperiod=30)"
   ]
  },
  {
   "cell_type": "markdown",
   "metadata": {},
   "source": [
    "### MFI"
   ]
  },
  {
   "cell_type": "code",
   "execution_count": null,
   "metadata": {},
   "outputs": [],
   "source": [
    "mfi = talib.MFI(h_price, l_price, c_price, volume, timeperiod=14)"
   ]
  },
  {
   "cell_type": "code",
   "execution_count": null,
   "metadata": {},
   "outputs": [],
   "source": [
    "mfi"
   ]
  },
  {
   "cell_type": "markdown",
   "metadata": {},
   "source": [
    "### Momentum"
   ]
  },
  {
   "cell_type": "code",
   "execution_count": null,
   "metadata": {},
   "outputs": [],
   "source": [
    "momentum12 = talib.MOM(c_price, timeperiod=12)\n"
   ]
  },
  {
   "cell_type": "markdown",
   "metadata": {},
   "source": [
    "### Stochastic Oscillator"
   ]
  },
  {
   "cell_type": "code",
   "execution_count": null,
   "metadata": {},
   "outputs": [],
   "source": [
    "slowk, slowd = talib.STOCH(h_price, l_price, c_price, fastk_period=5 , slowk_period=3, slowd_period=3)\n"
   ]
  },
  {
   "cell_type": "markdown",
   "metadata": {},
   "source": [
    "### On-Balance Volume"
   ]
  },
  {
   "cell_type": "code",
   "execution_count": null,
   "metadata": {},
   "outputs": [],
   "source": [
    "obv = talib.OBV(c_price, volume)"
   ]
  },
  {
   "cell_type": "code",
   "execution_count": null,
   "metadata": {},
   "outputs": [],
   "source": []
  },
  {
   "cell_type": "code",
   "execution_count": null,
   "metadata": {},
   "outputs": [],
   "source": []
  },
  {
   "cell_type": "markdown",
   "metadata": {},
   "source": [
    "# Fandamental Parameters"
   ]
  },
  {
   "cell_type": "code",
   "execution_count": null,
   "metadata": {},
   "outputs": [],
   "source": [
    "shakhes_kol = df['شاخص بورس*بورس*']\n",
    "Market_Returns = shakhes_kol.pct_change()"
   ]
  },
  {
   "cell_type": "code",
   "execution_count": null,
   "metadata": {},
   "outputs": [],
   "source": [
    "Stock_Returns = c_price.pct_change()"
   ]
  },
  {
   "cell_type": "markdown",
   "metadata": {},
   "source": [
    "### beta"
   ]
  },
  {
   "cell_type": "code",
   "execution_count": null,
   "metadata": {},
   "outputs": [],
   "source": [
    "merged_data = pd.concat([Stock_Returns, Market_Returns], axis=1).dropna()"
   ]
  },
  {
   "cell_type": "code",
   "execution_count": null,
   "metadata": {},
   "outputs": [],
   "source": [
    "merged_data.rename(columns={'پایانی*سهم*': 'Stock_Returns', 'شاخص بورس*بورس*': 'Market_Returns'}, inplace=True)"
   ]
  },
  {
   "cell_type": "code",
   "execution_count": null,
   "metadata": {},
   "outputs": [],
   "source": [
    "merged_data"
   ]
  },
  {
   "cell_type": "code",
   "execution_count": null,
   "metadata": {},
   "outputs": [],
   "source": [
    "rolling_beta = merged_data['Stock_Returns'].rolling(window=30).cov(merged_data['Market_Returns']) / merged_data['Market_Returns'].rolling(window=30).var()\n",
    "\n",
    "# Add rolling beta to a DataFrame\n",
    "rolling_beta_df = pd.DataFrame(rolling_beta, columns=['Rolling_Beta'])"
   ]
  },
  {
   "cell_type": "code",
   "execution_count": null,
   "metadata": {},
   "outputs": [],
   "source": [
    "rolling_beta"
   ]
  },
  {
   "cell_type": "code",
   "execution_count": null,
   "metadata": {},
   "outputs": [],
   "source": []
  },
  {
   "cell_type": "markdown",
   "metadata": {},
   "source": [
    "# Emotional Factors"
   ]
  },
  {
   "cell_type": "markdown",
   "metadata": {},
   "source": [
    "### VOL20"
   ]
  },
  {
   "cell_type": "code",
   "execution_count": null,
   "metadata": {},
   "outputs": [],
   "source": [
    "vol20 = volume.rolling(window=20).mean()"
   ]
  },
  {
   "cell_type": "code",
   "execution_count": null,
   "metadata": {},
   "outputs": [],
   "source": [
    "## daily average volume 20 (DAVOL20)\n",
    "davol20 = (volume - vol20) / vol20"
   ]
  },
  {
   "cell_type": "markdown",
   "metadata": {},
   "source": [
    "### Volume Oscillator (VOSC)"
   ]
  },
  {
   "cell_type": "code",
   "execution_count": null,
   "metadata": {},
   "outputs": [],
   "source": [
    "\n",
    "# Calculate the short-term and long-term volume moving averages\n",
    "short_Vol_MA = talib.SMA(volume, timeperiod=12)\n",
    "long_Vol_MA = talib.SMA(volume, timeperiod=26)\n",
    "\n",
    "# Calculate Volume Oscillator (VOSC)\n",
    "vosc = short_Vol_MA - long_Vol_MA\n"
   ]
  },
  {
   "cell_type": "markdown",
   "metadata": {},
   "source": [
    "### Volume moving average"
   ]
  },
  {
   "cell_type": "code",
   "execution_count": null,
   "metadata": {},
   "outputs": [],
   "source": [
    "volume_MA26 = talib.SMA(volume, timeperiod=26)\n",
    "volume_MA50 = talib.SMA(volume, timeperiod=50)"
   ]
  },
  {
   "cell_type": "markdown",
   "metadata": {},
   "source": [
    "### VMACD"
   ]
  },
  {
   "cell_type": "code",
   "execution_count": null,
   "metadata": {},
   "outputs": [],
   "source": [
    "# Calculate the short-term and long-term volume moving averages\n",
    "short_Vol_MA1 = volume.rolling(window=12).mean()\n",
    "long_Vol_MA1 = volume.rolling(window=26).mean()\n",
    "\n",
    "# Calculate Volume MACD (VMACD)\n",
    "Vmacd = short_Vol_MA1 - long_Vol_MA1"
   ]
  },
  {
   "cell_type": "markdown",
   "metadata": {},
   "source": [
    "### ART14"
   ]
  },
  {
   "cell_type": "code",
   "execution_count": null,
   "metadata": {},
   "outputs": [],
   "source": [
    "# Calculate True Range (TR)\n",
    "tr14 = talib.TRANGE(h_price, l_price, c_price)\n",
    "\n",
    "# Calculate Average True Range (ATR)\n",
    "Atr14 = talib.ATR(h_price, l_price, c_price, timeperiod=14)\n",
    "\n",
    "# Calculate TOOL14-ATR14 (True Range over 14 periods divided by ATR over 14 periods)\n",
    "tr14_Atr14 = tr14 / Atr14"
   ]
  },
  {
   "cell_type": "markdown",
   "metadata": {},
   "source": [
    "## PEG ratio - Growth rate is equals to inflation rate"
   ]
  },
  {
   "cell_type": "code",
   "execution_count": null,
   "metadata": {},
   "outputs": [],
   "source": [
    "pe_ratio = df['قیمت به درآمد-بورس*بورس*']"
   ]
  },
  {
   "cell_type": "code",
   "execution_count": null,
   "metadata": {},
   "outputs": [],
   "source": [
    "#  World Bank DATA\n",
    "expected_growth_rates = {\n",
    "    2013: 0.273,\n",
    "    2014: 0.367,\n",
    "    2015: 0.166,\n",
    "    2016: 0.127,\n",
    "    2017: 0.072,\n",
    "    2018: 0.08,\n",
    "    2019: 0.18,\n",
    "    2020: 0.399,\n",
    "    2021: 0.306,\n",
    "    2022: 0.436,\n",
    "    2023: 0.435,\n",
    "    }\n",
    "\n",
    "\n"
   ]
  },
  {
   "cell_type": "code",
   "execution_count": null,
   "metadata": {},
   "outputs": [],
   "source": [
    "# i want to divide the expected growth rate by the PE ratio based on their uniqe years rate\n",
    "# Calculate the expected growth rate divided by the PE ratio for each unique year\n",
    "pegs = [ ]\n",
    "for index in range(len(df)):\n",
    "    year = df.iloc[index]['Date'].year\n",
    "    if year in expected_growth_rates.keys():\n",
    "        pegs.append(df['P/E-ttm*سهم*'][index]/expected_growth_rates[year])\n",
    "\n",
    "        "
   ]
  },
  {
   "cell_type": "code",
   "execution_count": null,
   "metadata": {},
   "outputs": [],
   "source": [
    "df['قیمت به درآمد-بورس*بورس*'][0]/0.273"
   ]
  },
  {
   "cell_type": "code",
   "execution_count": null,
   "metadata": {},
   "outputs": [],
   "source": [
    "pegs[0]"
   ]
  },
  {
   "cell_type": "markdown",
   "metadata": {},
   "source": [
    "## Individual purchase per capita"
   ]
  },
  {
   "cell_type": "code",
   "execution_count": null,
   "metadata": {},
   "outputs": [],
   "source": [
    "individual_per_cap = df['سرانه خرید حقیقی*سهم*'] / df['ارزش بازار*سهم*']\n"
   ]
  },
  {
   "cell_type": "code",
   "execution_count": null,
   "metadata": {},
   "outputs": [],
   "source": [
    "individual_per_cap"
   ]
  },
  {
   "cell_type": "markdown",
   "metadata": {},
   "source": [
    "# Risk Factors"
   ]
  },
  {
   "cell_type": "markdown",
   "metadata": {},
   "source": [
    "### Variance20"
   ]
  },
  {
   "cell_type": "code",
   "execution_count": null,
   "metadata": {},
   "outputs": [],
   "source": [
    "variance_20d = c_price.rolling(window=20).var()"
   ]
  },
  {
   "cell_type": "markdown",
   "metadata": {},
   "source": [
    "### Sharp Ratio 20"
   ]
  },
  {
   "cell_type": "code",
   "execution_count": null,
   "metadata": {},
   "outputs": [],
   "source": [
    "pct_close = c_price.pct_change()"
   ]
  },
  {
   "cell_type": "code",
   "execution_count": null,
   "metadata": {},
   "outputs": [],
   "source": [
    "risk_free = df['نرخ بدون ریسک*کلان*']\n"
   ]
  },
  {
   "cell_type": "code",
   "execution_count": null,
   "metadata": {},
   "outputs": [],
   "source": [
    "rolling_std = pct_close.rolling(window=20).std()\n",
    "rolling_mean = pct_close.rolling(window=20).mean()"
   ]
  },
  {
   "cell_type": "code",
   "execution_count": null,
   "metadata": {},
   "outputs": [],
   "source": [
    "sharpe_ratio_20 = (rolling_mean - risk_free) / rolling_std"
   ]
  },
  {
   "cell_type": "code",
   "execution_count": null,
   "metadata": {},
   "outputs": [],
   "source": [
    "sharpe_ratio_20"
   ]
  },
  {
   "cell_type": "markdown",
   "metadata": {},
   "source": [
    "### Sharp Ratio 60"
   ]
  },
  {
   "cell_type": "code",
   "execution_count": null,
   "metadata": {},
   "outputs": [],
   "source": [
    "rolling_std60 = pct_close.rolling(window=60).std()\n",
    "rolling_mean60 = pct_close.rolling(window=60).mean()"
   ]
  },
  {
   "cell_type": "code",
   "execution_count": null,
   "metadata": {},
   "outputs": [],
   "source": [
    "sharpe_ratio_60 = (rolling_mean60 - risk_free) / rolling_std60"
   ]
  },
  {
   "cell_type": "markdown",
   "metadata": {},
   "source": [
    "### kurtosis"
   ]
  },
  {
   "cell_type": "code",
   "execution_count": null,
   "metadata": {},
   "outputs": [],
   "source": [
    "rolling_kurtosis = pct_close.rolling(window=20).kurt()"
   ]
  },
  {
   "cell_type": "markdown",
   "metadata": {},
   "source": [
    "### skewness"
   ]
  },
  {
   "cell_type": "code",
   "execution_count": null,
   "metadata": {},
   "outputs": [],
   "source": [
    "rolling_skewness = pct_close.rolling(window=20).skew()"
   ]
  },
  {
   "cell_type": "markdown",
   "metadata": {},
   "source": [
    "### Rate of Change - ROC20"
   ]
  },
  {
   "cell_type": "code",
   "execution_count": null,
   "metadata": {},
   "outputs": [],
   "source": [
    "# Calculate ROC20 (Rate of Change over a 20-day period)\n",
    "  # Period for ROC calculation\n",
    "\n",
    "Close_Shifted = c_price.shift(20)\n",
    "Roc20 = ((c_price - Close_Shifted) / Close_Shifted) * 100\n"
   ]
  },
  {
   "cell_type": "markdown",
   "metadata": {},
   "source": [
    "### Volume momentum 20"
   ]
  },
  {
   "cell_type": "code",
   "execution_count": null,
   "metadata": {},
   "outputs": [],
   "source": [
    "Volume_Shifted = volume.shift(20)\n",
    "Volume_Momentum_1M = ((volume - Volume_Shifted) / Volume_Shifted) * 100"
   ]
  },
  {
   "cell_type": "code",
   "execution_count": null,
   "metadata": {},
   "outputs": [],
   "source": [
    "Volume_Momentum_1M"
   ]
  },
  {
   "cell_type": "markdown",
   "metadata": {},
   "source": [
    "### Thriple exponential moving average"
   ]
  },
  {
   "cell_type": "code",
   "execution_count": null,
   "metadata": {},
   "outputs": [],
   "source": [
    "import ta"
   ]
  },
  {
   "cell_type": "code",
   "execution_count": null,
   "metadata": {},
   "outputs": [],
   "source": [
    "EMA1 = ta.trend.ema_indicator(close=c_price, window=20)\n",
    "EMA2 = ta.trend.ema_indicator(close=EMA1, window=20)\n",
    "TEMA20 = (3 * EMA1) - (3 * EMA2) + ta.trend.ema_indicator(close=EMA2, window=20)"
   ]
  },
  {
   "cell_type": "code",
   "execution_count": null,
   "metadata": {},
   "outputs": [],
   "source": [
    "TEMA20"
   ]
  },
  {
   "cell_type": "markdown",
   "metadata": {},
   "source": [
    "### Price Momentum 1 month"
   ]
  },
  {
   "cell_type": "code",
   "execution_count": null,
   "metadata": {},
   "outputs": [],
   "source": [
    "\n",
    "Price_Momentum_1M = (c_price - Close_Shifted / Close_Shifted) * 100\n"
   ]
  },
  {
   "cell_type": "markdown",
   "metadata": {},
   "source": [
    "### Price Linear Regression Curve 12"
   ]
  },
  {
   "cell_type": "code",
   "execution_count": null,
   "metadata": {},
   "outputs": [],
   "source": [
    "def linear_regression(df , period = 12):\n",
    "    x = pd.Series(range(1, len(df) + 1))\n",
    "    y = df.values\n",
    "    x_mean = x.rolling(window=period).mean()\n",
    "    y_mean = df.rolling(window=period).mean()\n",
    "    covariance = ((x - x_mean) * (y - y_mean)).rolling(window=period).sum()\n",
    "    variance = ((x - x_mean) ** 2).rolling(window=period).sum()\n",
    "    slope = covariance / variance\n",
    "    intercept = y_mean - (x_mean * slope)\n",
    "    return slope * period + intercept\n",
    "\n",
    "Price_Linear_Regression = linear_regression(c_price)\n"
   ]
  },
  {
   "cell_type": "code",
   "execution_count": null,
   "metadata": {},
   "outputs": [],
   "source": [
    "Price_Linear_Regression"
   ]
  },
  {
   "cell_type": "code",
   "execution_count": 11,
   "metadata": {},
   "outputs": [],
   "source": [
    "import pandas as pd\n",
    "import numpy as np\n",
    "import os\n",
    "import warnings\n",
    "import talib\n",
    "import ta\n",
    "\n",
    "\n",
    "warnings.filterwarnings('ignore')\n",
    "\n",
    "def adding_Tech_Fund(df_path):\n",
    "    # Get Data Frame\n",
    "    df = pd.DataFrame(pd.read_excel(df_path))\n",
    "\n",
    "    #  Classify the input data\n",
    "    c_price = df['پایانی*سهم*']\n",
    "    h_price = df['بالاترین*سهم*']\n",
    "    l_price = df['پایین\\u200cترین*سهم*']\n",
    "    volume = df['حجم*سهم*']\n",
    "    pct_close = c_price.pct_change()\n",
    "    if 'شاخص بورس*بورس*' in df.columns:\n",
    "        shakhes_kol = df['شاخص بورس*بورس*']\n",
    "    if 'شاخص فرابورس*فرابورس*' in df.columns:\n",
    "        shakhes_kol = df['شاخص فرابورس*فرابورس*']\n",
    "\n",
    "\n",
    "    Market_Returns = shakhes_kol.pct_change()\n",
    "    Stock_Returns = c_price.pct_change()\n",
    "\n",
    "    pe_ratio = df['P/E-ttm*سهم*']\n",
    "\n",
    "    #  World Bank DATA\n",
    "    expected_growth_rates = {\n",
    "        2013: 0.273, 2014: 0.367,\n",
    "        2015: 0.166, 2016: 0.127,\n",
    "        2017: 0.072, 2018: 0.08,\n",
    "        2019: 0.18, 2020: 0.399,\n",
    "        2021: 0.306, 2022: 0.436,\n",
    "        2023: 0.435,\n",
    "        }\n",
    "    risk_free = df['نرخ بدون ریسک*کلان*']\n",
    "\n",
    "\n",
    "\n",
    "\n",
    "\n",
    "    # *****TECHNICAL PARAMETERS***** #\n",
    "\n",
    "    # Moving Average\n",
    "    df['MA26'] = talib.MA(c_price, timeperiod= 26)\n",
    "    df['MA50'] = talib.MA(c_price, timeperiod= 50)\n",
    "    df['SMA26'] = talib.SMA(c_price, timeperiod= 26)\n",
    "    df['SMA50'] = talib.SMA(c_price, timeperiod= 50)\n",
    "\n",
    "    df['EMA26'] = talib.EMA(c_price, timeperiod= 26)\n",
    "    df['EMA50'] = talib.EMA(c_price, timeperiod= 50)\n",
    "\n",
    "    ### MACD\n",
    "    macd, signal, _ = talib.MACD(c_price, fastperiod=12, slowperiod=26, signalperiod=9)\n",
    "    df['MACD'] = macd\n",
    "    df['MACD_signal'] = signal\n",
    "\n",
    "    ### Bollinger Boands\n",
    "    upper_band, middle_band, lower_band = talib.BBANDS(c_price, timeperiod=30, nbdevup=2, nbdevdn=2)\n",
    "    df['Upper_Bollinger_band'] = upper_band\n",
    "    df['Middle_Bollinger_band'] = middle_band\n",
    "    df['Lower_Bollinger_band'] = lower_band\n",
    "\n",
    "    ### RSI\n",
    "    rsi = talib.RSI(c_price, timeperiod=30)\n",
    "    df['RSI'] = rsi\n",
    "\n",
    "    ### MFI\n",
    "    mfi = talib.MFI(h_price, l_price, c_price, volume, timeperiod=14)\n",
    "    df['MFI'] = mfi\n",
    "    ### Momentum\n",
    "    momentum12 = talib.MOM(c_price, timeperiod=12)\n",
    "    df['Momentum_12'] = momentum12\n",
    "\n",
    "    ### Stochastic Oscillator\n",
    "    slowk, slowd = talib.STOCH(h_price, l_price, c_price, fastk_period=5 , slowk_period=3, slowd_period=3)\n",
    "    df['Stochastic Oscillator_slowk'] = slowk\n",
    "    df['Stochastic Oscillator_slowd'] = slowd\n",
    "\n",
    "    ### On-Balance Volume\n",
    "    obv = talib.OBV(c_price, volume)\n",
    "    df['On-Balance Volume'] = obv\n",
    "\n",
    "\n",
    "    # ****** Fandamental Parameters ****** #\n",
    "\n",
    "    ### beta\n",
    "    merged_data = pd.concat([Stock_Returns, Market_Returns], axis=1).dropna()\n",
    "    merged_data.rename(columns={'پایانی*سهم*': 'Stock_Returns', 'شاخص بورس*بورس*': 'Market_Returns'}, inplace=True)\n",
    "    rolling_beta = merged_data['Stock_Returns'].rolling(window=30).cov(merged_data['Market_Returns']) / merged_data['Market_Returns'].rolling(window=30).var()\n",
    "    df['Beta30'] = rolling_beta\n",
    "\n",
    "\n",
    "\n",
    "\n",
    "\n",
    "    # Emotional Factors\n",
    "    ### VOL20\n",
    "    vol20 = volume.rolling(window=20).mean()\n",
    "    df['VOL20'] = vol20\n",
    "    ## daily average volume 20 (DAVOL20)\n",
    "    davol20 = (volume - vol20) / vol20\n",
    "    df['DAVOL20'] = davol20\n",
    "\n",
    "    ### Volume Oscillator (VOSC)\n",
    "    # Calculate the short-term and long-term volume moving averages\n",
    "    short_Vol_MA = talib.SMA(volume, timeperiod=12)\n",
    "    long_Vol_MA = talib.SMA(volume, timeperiod=26)\n",
    "\n",
    "    # Calculate Volume Oscillator (VOSC)\n",
    "    vosc = short_Vol_MA - long_Vol_MA\n",
    "    df['VOSC'] = vosc\n",
    "\n",
    "    ### Volume moving average\n",
    "    volume_MA26 = talib.SMA(volume, timeperiod=26)\n",
    "    df['Volume_MA26'] = volume_MA26\n",
    "    volume_MA50 = talib.SMA(volume, timeperiod=50)\n",
    "    df['Volume_MA50'] = volume_MA50\n",
    "\n",
    "\n",
    "    ### VMACD\n",
    "    # Calculate the short-term and long-term volume moving averages\n",
    "    short_Vol_MA1 = volume.rolling(window=12).mean()\n",
    "    long_Vol_MA1 = volume.rolling(window=26).mean()\n",
    "\n",
    "    # Calculate Volume MACD (VMACD)\n",
    "    Vmacd = short_Vol_MA1 - long_Vol_MA1\n",
    "    df['VMACD'] = Vmacd\n",
    "\n",
    "\n",
    "    ### ART14\n",
    "    # Calculate True Range (TR)\n",
    "    tr14 = talib.TRANGE(h_price, l_price, c_price)\n",
    "\n",
    "    # Calculate Average True Range (ATR)\n",
    "    Atr14 = talib.ATR(h_price, l_price, c_price, timeperiod=14)\n",
    "\n",
    "    # Calculate TOOL14-ATR14 (True Range over 14 periods divided by ATR over 14 periods)\n",
    "    tr14_Atr14 = tr14 / Atr14\n",
    "    df['Tr14_Atr14'] = tr14_Atr14\n",
    "\n",
    "\n",
    "\n",
    "    ## PEG ratio - Growth rate is equals to inflation rate\n",
    "    pegs = [ ]\n",
    "    for index in range(len(df)):\n",
    "        year = df.iloc[index]['Date'].year\n",
    "        if year in expected_growth_rates.keys():\n",
    "            pegs.append(pe_ratio[index]/expected_growth_rates[year])\n",
    "\n",
    "    df['PEG'] = pegs\n",
    "\n",
    "    ## Individual purchase per capita\n",
    "    individual_per_cap = df['سرانه خرید حقیقی*سهم*'] / df['ارزش بازار*سهم*']\n",
    "    df['Individual Per Capita'] = individual_per_cap\n",
    "\n",
    "\n",
    "\n",
    "    # Risk Factors\n",
    "    ### Variance20\n",
    "    variance_20d = c_price.rolling(window=20).var()\n",
    "    df['Variance20'] = variance_20d\n",
    "\n",
    "    ### Sharp Ratio\n",
    "    rolling_std = pct_close.rolling(window=20).std()\n",
    "    rolling_mean = pct_close.rolling(window=20).mean()\n",
    "    sharpe_ratio_20 = (rolling_mean - risk_free) / rolling_std\n",
    "    df['Sharp Ratio 20'] = sharpe_ratio_20\n",
    "\n",
    "    ### Sharp Ratio 60\n",
    "    rolling_std60 = pct_close.rolling(window=60).std()\n",
    "    rolling_mean60 = pct_close.rolling(window=60).mean()\n",
    "    sharpe_ratio_60 = (rolling_mean60 - risk_free) / rolling_std60\n",
    "    df['Sharp Ratio 60'] = sharpe_ratio_60\n",
    "\n",
    "    ### kurtosis\n",
    "    rolling_kurtosis = pct_close.rolling(window=20).kurt()\n",
    "    df['Kurtosis'] = rolling_kurtosis\n",
    "\n",
    "    ### skewness\n",
    "    rolling_skewness = pct_close.rolling(window=20).skew()\n",
    "    df['Skewness'] = rolling_skewness\n",
    "\n",
    "    ### Rate of Change - ROC20\n",
    "    # Calculate ROC20 (Rate of Change over a 20-day period)\n",
    "    # Period for ROC calculation\n",
    "\n",
    "    Close_Shifted = c_price.shift(20)\n",
    "    Roc20 = ((c_price - Close_Shifted) / Close_Shifted) * 100\n",
    "    df['ROC20'] = Roc20\n",
    "\n",
    "    ### Volume momentum 20\n",
    "    Volume_Shifted = volume.shift(20)\n",
    "    Volume_Momentum_1M = ((volume - Volume_Shifted) / Volume_Shifted) * 100\n",
    "    df['Volume Momentum 20'] = Volume_Momentum_1M\n",
    "    ### Thriple exponential moving average\n",
    "    EMA1 = ta.trend.ema_indicator(close=c_price, window=20)\n",
    "    EMA2 = ta.trend.ema_indicator(close=EMA1, window=20)\n",
    "    TEMA20 = (3 * EMA1) - (3 * EMA2) + ta.trend.ema_indicator(close=EMA2, window=20)\n",
    "    df['TEMA20'] = TEMA20\n",
    "    ### Price Momentum 1 month\n",
    "\n",
    "    Price_Momentum_1M = (c_price - Close_Shifted / Close_Shifted) * 100\n",
    "    df['Price Momentum 1M'] = Price_Momentum_1M\n",
    "\n",
    "    ### Price Linear Regression Curve 12\n",
    "    def linear_regression(df , period = 12):\n",
    "        x = pd.Series(range(1, len(df) + 1))\n",
    "        y = df.values\n",
    "        x_mean = x.rolling(window=period).mean()\n",
    "        y_mean = df.rolling(window=period).mean()\n",
    "        covariance = ((x - x_mean) * (y - y_mean)).rolling(window=period).sum()\n",
    "        variance = ((x - x_mean) ** 2).rolling(window=period).sum()\n",
    "        slope = covariance / variance\n",
    "        intercept = y_mean - (x_mean * slope)\n",
    "        return slope * period + intercept\n",
    "\n",
    "    Price_Linear_Regression = linear_regression(c_price)\n",
    "    df['PLRC12'] = Price_Linear_Regression\n",
    "\n",
    "\n",
    "\n",
    "    # *** Volatility parameters *** #\n",
    "\n",
    "    # Calculate logarithmic returns\n",
    "    Log_Returns = np.log(c_price / c_price.shift(1))\n",
    "\n",
    "    # Calculate Historical Volatility as the standard deviation of logarithmic returns\n",
    "    historical_volatility = Log_Returns.rolling(window=20).std() * np.sqrt(20)\n",
    "    df['Historical Volatility'] = historical_volatility\n",
    "    \n",
    "    # Realized_Volatility RV\n",
    "\n",
    "    realized_volatility = Stock_Returns.rolling(window=20).std() * np.sqrt(20)\n",
    "    df['Realized_Volatility'] = realized_volatility\n",
    "\n",
    "\n",
    "    # Calculate Average True Range (ATR)\n",
    "    data = pd.DataFrame()\n",
    "    period = 14  # Adjust as needed\n",
    "\n",
    "    data['High_Low'] = abs(h_price - l_price)\n",
    "    data['High_PreviousClose'] = abs(h_price - c_price.shift(1))\n",
    "    data['Low_PreviousClose'] = abs(l_price - c_price.shift(1))\n",
    "\n",
    "    data['True_Range'] = data[['High_Low', 'High_PreviousClose', 'Low_PreviousClose']].max(axis=1)\n",
    "    ATR = data['True_Range'].rolling(window=period).mean()\n",
    "    df['ATR14'] = ATR\n",
    "\n",
    "\n",
    "    ### ***** Clearing New Data ***** ###\n",
    "    def clean_data(df):\n",
    "        # Replace gaps forward from the previous valid value in: 'قیمت به درآمد-بورس*بورس*', 'ارزش بازار (دلار آزاد)-بورس*بورس*' and 76 other columns\n",
    "        df = df.fillna({'قیمت به درآمد-بورس*بورس*': df['قیمت به درآمد-بورس*بورس*'].ffill(), 'ارزش بازار (دلار آزاد)-بورس*بورس*': df['ارزش بازار (دلار آزاد)-بورس*بورس*'].ffill(), 'درصد شناوری-بورس*بورس*': df['درصد شناوری-بورس*بورس*'].ffill(), 'قیمت به سود -بورس*بورس*': df['قیمت به سود -بورس*بورس*'].ffill(), 'بازده دارایی ها-بورس*بورس*': df['بازده دارایی ها-بورس*بورس*'].ffill(), 'درصد پرداخت سود-بورس*بورس*': df['درصد پرداخت سود-بورس*بورس*'].ffill(), 'ارزش بازار (دلار نیمایی)-بورس*بورس*': df['ارزش بازار (دلار نیمایی)-بورس*بورس*'].ffill(), 'قیمت به ارزش دفتری-بورس*بورس*': df['قیمت به ارزش دفتری-بورس*بورس*'].ffill(), 'بازده حقوق صاحبان سهام-بورس*بورس*': df['بازده حقوق صاحبان سهام-بورس*بورس*'].ffill(), 'Oil Price': df['Oil Price'].ffill(), 'BTC Price': df['BTC Price'].ffill(), 'GAS Price': df['GAS Price'].ffill(), 'Cooper Price': df['Cooper Price'].ffill(), 'Aluminum Price': df['Aluminum Price'].ffill(), 'Gold Price': df['Gold Price'].ffill(), 'Treasury Bond': df['Treasury Bond'].ffill(), 'Treasury Yield 30 Years': df['Treasury Yield 30 Years'].ffill(), 'Treasury Yield 5 Years': df['Treasury Yield 5 Years'].ffill(), 'S&P 500': df['S&P 500'].ffill(), 'NASDAQ Composite': df['NASDAQ Composite'].ffill(), 'Dollar-Index': df['Dollar-Index'].ffill(), 'Lead Price': df['Lead Price'].ffill(), 'Steel Price': df['Steel Price'].ffill(), 'میزان تغییر*صنعت*': df['میزان تغییر*صنعت*'].ffill(), 'درصد تغییر*صنعت*': df['درصد تغییر*صنعت*'].ffill(), 'سهام شناور*صنعت*': df['سهام شناور*صنعت*'].ffill(), 'P/E-ttm*صنعت*': df['P/E-ttm*صنعت*'].ffill(), 'P/B*صنعت*': df['P/B*صنعت*'].ffill(), 'P/S*صنعت*': df['P/S*صنعت*'].ffill(), 'درصد تغییر*سهم*': df['درصد تغییر*سهم*'].ffill(), 'سهام شناور*سهم*': df['سهام شناور*سهم*'].ffill(), 'P/E-ttm*سهم*': df['P/E-ttm*سهم*'].ffill(), 'P/B*سهم*': df['P/B*سهم*'].ffill(), 'P/S*سهم*': df['P/S*سهم*'].ffill(), 'قدرت خرید حقیقی*سهم*': df['قدرت خرید حقیقی*سهم*'].ffill(), 'درصد خالص حقیقی*سهم*': df['درصد خالص حقیقی*سهم*'].ffill(), 'میانگین نرخ بدون ریسک*کلان*': df['میانگین نرخ بدون ریسک*کلان*'].ffill(), 'نرخ بدون ریسک*کلان*': df['نرخ بدون ریسک*کلان*'].ffill(), 'MA26': df['MA26'].ffill(), 'MA50': df['MA50'].ffill(), 'SMA26': df['SMA26'].ffill(), 'SMA50': df['SMA50'].ffill(), 'EMA26': df['EMA26'].ffill(), 'EMA50': df['EMA50'].ffill(), 'MACD': df['MACD'].ffill(), 'MACD_signal': df['MACD_signal'].ffill(), 'Upper_Bollinger_band': df['Upper_Bollinger_band'].ffill(), 'Middle_Bollinger_band': df['Middle_Bollinger_band'].ffill(), 'Lower_Bollinger_band': df['Lower_Bollinger_band'].ffill(), 'RSI': df['RSI'].ffill(), 'MFI': df['MFI'].ffill(), 'Momentum_12': df['Momentum_12'].ffill(), 'Stochastic Oscillator_slowk': df['Stochastic Oscillator_slowk'].ffill(), 'Stochastic Oscillator_slowd': df['Stochastic Oscillator_slowd'].ffill(), 'On-Balance Volume': df['On-Balance Volume'].ffill(), 'Beta30': df['Beta30'].ffill(), 'VOL20': df['VOL20'].ffill(), 'DAVOL20': df['DAVOL20'].ffill(), 'VOSC': df['VOSC'].ffill(), 'Volume_MA26': df['Volume_MA26'].ffill(), 'Volume_MA50': df['Volume_MA50'].ffill(), 'VMACD': df['VMACD'].ffill(), 'Tr14_Atr14': df['Tr14_Atr14'].ffill(), 'PEG': df['PEG'].ffill(), 'Individual Per Capita': df['Individual Per Capita'].ffill(), 'Variance20': df['Variance20'].ffill(), 'Sharp Ratio 20': df['Sharp Ratio 20'].ffill(), 'Sharp Ratio 60': df['Sharp Ratio 60'].ffill(), 'Kurtosis': df['Kurtosis'].ffill(), 'Skewness': df['Skewness'].ffill(), 'ROC20': df['ROC20'].ffill(), 'Volume Momentum 20': df['Volume Momentum 20'].ffill(), 'TEMA20': df['TEMA20'].ffill(), 'Price Momentum 1M': df['Price Momentum 1M'].ffill(), 'PLRC12': df['PLRC12'].ffill(), 'Historical Volatility': df['Historical Volatility'].ffill(), 'Realized_Volatility': df['Realized_Volatility'].ffill(), 'ATR14': df['ATR14'].ffill()})\n",
    "        # Replace missing values with 0 in columns: 'قیمت به درآمد-بورس*بورس*', 'ارزش بازار (دلار آزاد)-بورس*بورس*' and 76 other columns\n",
    "        df = df.fillna({'قیمت به درآمد-بورس*بورس*': 0, 'ارزش بازار (دلار آزاد)-بورس*بورس*': 0, 'درصد شناوری-بورس*بورس*': 0, 'قیمت به سود -بورس*بورس*': 0, 'بازده دارایی ها-بورس*بورس*': 0, 'درصد پرداخت سود-بورس*بورس*': 0, 'ارزش بازار (دلار نیمایی)-بورس*بورس*': 0, 'قیمت به ارزش دفتری-بورس*بورس*': 0, 'بازده حقوق صاحبان سهام-بورس*بورس*': 0, 'Oil Price': 0, 'BTC Price': 0, 'GAS Price': 0, 'Cooper Price': 0, 'Aluminum Price': 0, 'Gold Price': 0, 'Treasury Bond': 0, 'Treasury Yield 30 Years': 0, 'Treasury Yield 5 Years': 0, 'S&P 500': 0, 'NASDAQ Composite': 0, 'Dollar-Index': 0, 'Lead Price': 0, 'Steel Price': 0, 'میزان تغییر*صنعت*': 0, 'درصد تغییر*صنعت*': 0, 'سهام شناور*صنعت*': 0, 'P/E-ttm*صنعت*': 0, 'P/B*صنعت*': 0, 'P/S*صنعت*': 0, 'درصد تغییر*سهم*': 0, 'سهام شناور*سهم*': 0, 'P/E-ttm*سهم*': 0, 'P/B*سهم*': 0, 'P/S*سهم*': 0, 'قدرت خرید حقیقی*سهم*': 0, 'درصد خالص حقیقی*سهم*': 0, 'میانگین نرخ بدون ریسک*کلان*': 0, 'نرخ بدون ریسک*کلان*': 0, 'MA26': 0, 'MA50': 0, 'SMA26': 0, 'SMA50': 0, 'EMA26': 0, 'EMA50': 0, 'MACD': 0, 'MACD_signal': 0, 'Upper_Bollinger_band': 0, 'Middle_Bollinger_band': 0, 'Lower_Bollinger_band': 0, 'RSI': 0, 'MFI': 0, 'Momentum_12': 0, 'Stochastic Oscillator_slowk': 0, 'Stochastic Oscillator_slowd': 0, 'On-Balance Volume': 0, 'Beta30': 0, 'VOL20': 0, 'DAVOL20': 0, 'VOSC': 0, 'Volume_MA26': 0, 'Volume_MA50': 0, 'VMACD': 0, 'Tr14_Atr14': 0, 'PEG': 0, 'Individual Per Capita': 0, 'Variance20': 0, 'Sharp Ratio 20': 0, 'Sharp Ratio 60': 0, 'Kurtosis': 0, 'Skewness': 0, 'ROC20': 0, 'Volume Momentum 20': 0, 'TEMA20': 0, 'Price Momentum 1M': 0, 'PLRC12': 0, 'Historical Volatility': 0, 'Realized_Volatility': 0, 'ATR14': 0})\n",
    "        # Change column type to float64 for columns: 'ATR14', 'Realized_Volatility' and 35 other columns\n",
    "        df = df.astype({'ATR14': 'float64', 'Realized_Volatility': 'float64', 'Historical Volatility': 'float64', 'PLRC12': 'float64', 'TEMA20': 'float64', 'Volume Momentum 20': 'float64', 'ROC20': 'float64', 'Skewness': 'float64', 'Kurtosis': 'float64', 'Sharp Ratio 60': 'float64', 'Sharp Ratio 20': 'float64', 'Variance20': 'float64', 'Individual Per Capita': 'float64', 'PEG': 'float64', 'Tr14_Atr14': 'float64', 'VMACD': 'float64', 'Volume_MA50': 'float64', 'Volume_MA26': 'float64', 'VOSC': 'float64', 'DAVOL20': 'float64', 'VOL20': 'float64', 'Beta30': 'float64', 'Stochastic Oscillator_slowd': 'float64', 'Stochastic Oscillator_slowk': 'float64', 'MFI': 'float64', 'RSI': 'float64', 'Lower_Bollinger_band': 'float64', 'Middle_Bollinger_band': 'float64', 'Upper_Bollinger_band': 'float64', 'MACD_signal': 'float64', 'MACD': 'float64', 'EMA50': 'float64', 'EMA26': 'float64', 'SMA50': 'float64', 'SMA26': 'float64', 'MA50': 'float64', 'MA26': 'float64'})\n",
    "        # Change column type to int64 for columns: 'Price Momentum 1M', 'On-Balance Volume', 'Momentum_12'\n",
    "        df = df.astype({'Price Momentum 1M': 'int64', 'On-Balance Volume': 'int64', 'Momentum_12': 'int64'})\n",
    "        return df\n",
    "\n",
    "    df_clean = clean_data(df.copy())\n",
    "\n",
    "\n",
    "\n",
    "\n",
    "    return df_clean\n",
    "\n",
    "\n",
    "\n"
   ]
  },
  {
   "cell_type": "code",
   "execution_count": 12,
   "metadata": {},
   "outputs": [],
   "source": [
    "bors_path = './boursview_final_data/فولاد.xlsx'\n",
    "farabors_path ='./boursview_final_data/ارفع.xlsx'"
   ]
  },
  {
   "cell_type": "code",
   "execution_count": 13,
   "metadata": {},
   "outputs": [],
   "source": [
    "df = adding_Tech_Fund(bors_path)"
   ]
  },
  {
   "cell_type": "code",
   "execution_count": 14,
   "metadata": {},
   "outputs": [
    {
     "data": {
      "text/html": [
       "<div>\n",
       "<style scoped>\n",
       "    .dataframe tbody tr th:only-of-type {\n",
       "        vertical-align: middle;\n",
       "    }\n",
       "\n",
       "    .dataframe tbody tr th {\n",
       "        vertical-align: top;\n",
       "    }\n",
       "\n",
       "    .dataframe thead th {\n",
       "        text-align: right;\n",
       "    }\n",
       "</style>\n",
       "<table border=\"1\" class=\"dataframe\">\n",
       "  <thead>\n",
       "    <tr style=\"text-align: right;\">\n",
       "      <th></th>\n",
       "      <th>Date</th>\n",
       "      <th>تاریخ شمسی</th>\n",
       "      <th>حجم معاملات اوراق با درآمد ثابت بلوکی-بورس*بورس*</th>\n",
       "      <th>ارزش معاملات اوراق با درآمد ثابت بلوکی-بورس*بورس*</th>\n",
       "      <th>قیمت به درآمد-بورس*بورس*</th>\n",
       "      <th>ارزش بازار (دلار آزاد)-بورس*بورس*</th>\n",
       "      <th>درصد شناوری-بورس*بورس*</th>\n",
       "      <th>حجم معاملات سهام بلوکی-بورس*بورس*</th>\n",
       "      <th>سود خالص-آخرین فصل-بورس*بورس*</th>\n",
       "      <th>قیمت به سود -بورس*بورس*</th>\n",
       "      <th>...</th>\n",
       "      <th>Kurtosis</th>\n",
       "      <th>Skewness</th>\n",
       "      <th>ROC20</th>\n",
       "      <th>Volume Momentum 20</th>\n",
       "      <th>TEMA20</th>\n",
       "      <th>Price Momentum 1M</th>\n",
       "      <th>PLRC12</th>\n",
       "      <th>Historical Volatility</th>\n",
       "      <th>Realized_Volatility</th>\n",
       "      <th>ATR14</th>\n",
       "    </tr>\n",
       "  </thead>\n",
       "  <tbody>\n",
       "    <tr>\n",
       "      <th>0</th>\n",
       "      <td>2013-09-01</td>\n",
       "      <td>1392/6/10</td>\n",
       "      <td>0</td>\n",
       "      <td>0</td>\n",
       "      <td>1.758179</td>\n",
       "      <td>8.970753e+10</td>\n",
       "      <td>0.200076</td>\n",
       "      <td>0</td>\n",
       "      <td>140964434000000</td>\n",
       "      <td>6.740156</td>\n",
       "      <td>...</td>\n",
       "      <td>0.0</td>\n",
       "      <td>0.0</td>\n",
       "      <td>0.0</td>\n",
       "      <td>0.0</td>\n",
       "      <td>0.0</td>\n",
       "      <td>0</td>\n",
       "      <td>0.0</td>\n",
       "      <td>0.0</td>\n",
       "      <td>0.0</td>\n",
       "      <td>0.0</td>\n",
       "    </tr>\n",
       "    <tr>\n",
       "      <th>1</th>\n",
       "      <td>2013-09-02</td>\n",
       "      <td>1392/6/11</td>\n",
       "      <td>0</td>\n",
       "      <td>0</td>\n",
       "      <td>1.758179</td>\n",
       "      <td>8.970753e+10</td>\n",
       "      <td>0.200076</td>\n",
       "      <td>0</td>\n",
       "      <td>140964434000000</td>\n",
       "      <td>6.740156</td>\n",
       "      <td>...</td>\n",
       "      <td>0.0</td>\n",
       "      <td>0.0</td>\n",
       "      <td>0.0</td>\n",
       "      <td>0.0</td>\n",
       "      <td>0.0</td>\n",
       "      <td>0</td>\n",
       "      <td>0.0</td>\n",
       "      <td>0.0</td>\n",
       "      <td>0.0</td>\n",
       "      <td>0.0</td>\n",
       "    </tr>\n",
       "    <tr>\n",
       "      <th>2</th>\n",
       "      <td>2013-09-03</td>\n",
       "      <td>1392/6/12</td>\n",
       "      <td>0</td>\n",
       "      <td>0</td>\n",
       "      <td>1.755820</td>\n",
       "      <td>8.874363e+10</td>\n",
       "      <td>0.186337</td>\n",
       "      <td>0</td>\n",
       "      <td>140924110000000</td>\n",
       "      <td>6.729593</td>\n",
       "      <td>...</td>\n",
       "      <td>0.0</td>\n",
       "      <td>0.0</td>\n",
       "      <td>0.0</td>\n",
       "      <td>0.0</td>\n",
       "      <td>0.0</td>\n",
       "      <td>0</td>\n",
       "      <td>0.0</td>\n",
       "      <td>0.0</td>\n",
       "      <td>0.0</td>\n",
       "      <td>0.0</td>\n",
       "    </tr>\n",
       "    <tr>\n",
       "      <th>3</th>\n",
       "      <td>2013-09-04</td>\n",
       "      <td>1392/6/13</td>\n",
       "      <td>0</td>\n",
       "      <td>0</td>\n",
       "      <td>1.731691</td>\n",
       "      <td>8.659031e+10</td>\n",
       "      <td>0.187370</td>\n",
       "      <td>0</td>\n",
       "      <td>140924110000000</td>\n",
       "      <td>6.636411</td>\n",
       "      <td>...</td>\n",
       "      <td>0.0</td>\n",
       "      <td>0.0</td>\n",
       "      <td>0.0</td>\n",
       "      <td>0.0</td>\n",
       "      <td>0.0</td>\n",
       "      <td>0</td>\n",
       "      <td>0.0</td>\n",
       "      <td>0.0</td>\n",
       "      <td>0.0</td>\n",
       "      <td>0.0</td>\n",
       "    </tr>\n",
       "    <tr>\n",
       "      <th>4</th>\n",
       "      <td>2013-09-05</td>\n",
       "      <td>1392/6/14</td>\n",
       "      <td>0</td>\n",
       "      <td>0</td>\n",
       "      <td>1.731691</td>\n",
       "      <td>8.659031e+10</td>\n",
       "      <td>0.187370</td>\n",
       "      <td>0</td>\n",
       "      <td>140924110000000</td>\n",
       "      <td>6.636411</td>\n",
       "      <td>...</td>\n",
       "      <td>0.0</td>\n",
       "      <td>0.0</td>\n",
       "      <td>0.0</td>\n",
       "      <td>0.0</td>\n",
       "      <td>0.0</td>\n",
       "      <td>0</td>\n",
       "      <td>0.0</td>\n",
       "      <td>0.0</td>\n",
       "      <td>0.0</td>\n",
       "      <td>0.0</td>\n",
       "    </tr>\n",
       "  </tbody>\n",
       "</table>\n",
       "<p>5 rows × 144 columns</p>\n",
       "</div>"
      ],
      "text/plain": [
       "        Date تاریخ شمسی  حجم معاملات اوراق با درآمد ثابت بلوکی-بورس*بورس*  \\\n",
       "0 2013-09-01  1392/6/10                                                 0   \n",
       "1 2013-09-02  1392/6/11                                                 0   \n",
       "2 2013-09-03  1392/6/12                                                 0   \n",
       "3 2013-09-04  1392/6/13                                                 0   \n",
       "4 2013-09-05  1392/6/14                                                 0   \n",
       "\n",
       "   ارزش معاملات اوراق با درآمد ثابت بلوکی-بورس*بورس*  \\\n",
       "0                                                  0   \n",
       "1                                                  0   \n",
       "2                                                  0   \n",
       "3                                                  0   \n",
       "4                                                  0   \n",
       "\n",
       "   قیمت به درآمد-بورس*بورس*  ارزش بازار (دلار آزاد)-بورس*بورس*  \\\n",
       "0                  1.758179                       8.970753e+10   \n",
       "1                  1.758179                       8.970753e+10   \n",
       "2                  1.755820                       8.874363e+10   \n",
       "3                  1.731691                       8.659031e+10   \n",
       "4                  1.731691                       8.659031e+10   \n",
       "\n",
       "   درصد شناوری-بورس*بورس*  حجم معاملات سهام بلوکی-بورس*بورس*  \\\n",
       "0                0.200076                                  0   \n",
       "1                0.200076                                  0   \n",
       "2                0.186337                                  0   \n",
       "3                0.187370                                  0   \n",
       "4                0.187370                                  0   \n",
       "\n",
       "   سود خالص-آخرین فصل-بورس*بورس*  قیمت به سود -بورس*بورس*  ...  Kurtosis  \\\n",
       "0                140964434000000                 6.740156  ...       0.0   \n",
       "1                140964434000000                 6.740156  ...       0.0   \n",
       "2                140924110000000                 6.729593  ...       0.0   \n",
       "3                140924110000000                 6.636411  ...       0.0   \n",
       "4                140924110000000                 6.636411  ...       0.0   \n",
       "\n",
       "   Skewness  ROC20  Volume Momentum 20  TEMA20  Price Momentum 1M  PLRC12  \\\n",
       "0       0.0    0.0                 0.0     0.0                  0     0.0   \n",
       "1       0.0    0.0                 0.0     0.0                  0     0.0   \n",
       "2       0.0    0.0                 0.0     0.0                  0     0.0   \n",
       "3       0.0    0.0                 0.0     0.0                  0     0.0   \n",
       "4       0.0    0.0                 0.0     0.0                  0     0.0   \n",
       "\n",
       "   Historical Volatility  Realized_Volatility  ATR14  \n",
       "0                    0.0                  0.0    0.0  \n",
       "1                    0.0                  0.0    0.0  \n",
       "2                    0.0                  0.0    0.0  \n",
       "3                    0.0                  0.0    0.0  \n",
       "4                    0.0                  0.0    0.0  \n",
       "\n",
       "[5 rows x 144 columns]"
      ]
     },
     "execution_count": 14,
     "metadata": {},
     "output_type": "execute_result"
    }
   ],
   "source": [
    "df.head()"
   ]
  },
  {
   "cell_type": "code",
   "execution_count": 18,
   "metadata": {},
   "outputs": [
    {
     "name": "stdout",
     "output_type": "stream",
     "text": [
      "<class 'pandas.core.frame.DataFrame'>\n",
      "RangeIndex: 3653 entries, 0 to 3652\n",
      "Columns: 144 entries, Date to ATR14\n",
      "dtypes: datetime64[ns](1), float64(75), int64(67), object(1)\n",
      "memory usage: 4.0+ MB\n"
     ]
    }
   ],
   "source": [
    "df.info()"
   ]
  },
  {
   "cell_type": "code",
   "execution_count": 19,
   "metadata": {},
   "outputs": [
    {
     "name": "stdout",
     "output_type": "stream",
     "text": [
      "کنور.xlsx\n",
      "فولاژ.xlsx\n",
      "شنفت.xlsx\n",
      "شیراز.xlsx\n",
      "فخاس.xlsx\n",
      "کویر.xlsx\n",
      "مارون.xlsx\n",
      "شرانول.xlsx\n",
      "کگل.xlsx\n",
      "کرماشا.xlsx\n",
      "خساپا.xlsx\n",
      "فباهنر.xlsx\n",
      "شبریز.xlsx\n",
      "خراسان.xlsx\n",
      "فملی.xlsx\n",
      "خودرو.xlsx\n",
      "شاراک.xlsx\n",
      "زاگرس.xlsx\n",
      "فاسمین.xlsx\n",
      "ارفع.xlsx\n",
      "شپنا.xlsx\n",
      "خپارس.xlsx\n",
      "فخوز.xlsx\n",
      "شفن.xlsx\n",
      "فولاد.xlsx\n",
      "شاوان.xlsx\n",
      "ذوب.xlsx\n",
      "فایرا.xlsx\n",
      "شبندر.xlsx\n",
      "شخارک.xlsx\n",
      "شگویا.xlsx\n",
      "شبهرن.xlsx\n",
      "شکبیر.xlsx\n",
      "کچاد.xlsx\n",
      "شیران.xlsx\n",
      "شتران.xlsx\n",
      "جم.xlsx\n",
      "خزامیاد.xlsx\n",
      "شراز.xlsx\n",
      "شپدیس.xlsx\n"
     ]
    }
   ],
   "source": [
    "folder_path = './boursview_final_data'\n",
    "file_list = os.listdir(folder_path)\n",
    "for file in file_list:\n",
    "    print(file)"
   ]
  },
  {
   "cell_type": "code",
   "execution_count": null,
   "metadata": {},
   "outputs": [],
   "source": []
  }
 ],
 "metadata": {
  "kernelspec": {
   "display_name": "py310",
   "language": "python",
   "name": "python3"
  },
  "language_info": {
   "codemirror_mode": {
    "name": "ipython",
    "version": 3
   },
   "file_extension": ".py",
   "mimetype": "text/x-python",
   "name": "python",
   "nbconvert_exporter": "python",
   "pygments_lexer": "ipython3",
   "version": "3.10.13"
  }
 },
 "nbformat": 4,
 "nbformat_minor": 2
}
